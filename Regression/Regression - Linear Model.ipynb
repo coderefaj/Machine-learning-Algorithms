{
 "cells": [
  {
   "cell_type": "markdown",
   "metadata": {},
   "source": [
    "## Regression :\n",
    "\n",
    "Regression is the **Predictive Modelling** for the **continous** values of input , by creating a function that enables relation between Independent Variable and Dependent Variable . \n",
    "\n",
    "Predicting a person’s annual income from their education, their age, and where they live is anexample of a regression task. When predicting income, the predicted value is an amount, and can be any number in a given range. Another example of a regression task is predicting the yield of a corn farm given attributes such as previous yields,weather, and number of employees working on the farm. \n",
    "\n",
    "The yield again can be an arbitrary number.\n",
    "Market Forecasting , Price Prediction , Population Growth Prediction are some of applications for regression model .\n",
    "\n",
    "### Usage :\n",
    "\n",
    "1. Strength of the effect of Independent Variable (x) over the Dependent Variable (y) [ y = mx+c ]\n",
    "\n",
    "2. Forecasting an effect \n",
    "\n",
    "3. Trend forecasting (Value of the land after some years)\n",
    "\n",
    "## Linear Regression :\n",
    "\n",
    "   Linear regression is the method of finding the best fit line over the available points in data . linear regression could be simply represented as \n",
    "    \n",
    "    y = mx + c \n",
    "    \n",
    "   y - Dependent Variable <br>\n",
    "   m - Slope <br>\n",
    "   x - Independent Variable <br> \n",
    "   c - Intercept <br>\n",
    "   \n",
    "   It creates a corelation between the X and Y . \n",
    "   Accuracy is been calculated by **R squared** , **RMSE** Root Mean Squared Error . \n",
    "   \n",
    "   ### When to use Linear Regression ?\n",
    "   \n",
    "   Linear Regression , could be used in following scenarios \n",
    "   1. When the data values are continous \n",
    "   2. Data Quality - Quality of the data is good ( Minimum no. of outliers , no null values ) These could be enhanced by Exploratory Data analysis EDA ( We will cover that soon ) .\n",
    "   For now , assume the data with minimum outliers and no null values . \n",
    "   \n",
    "   3. Low Computational Complexity .\n",
    "   4. If the data could be represented in Simple Mathematical Equation .\n",
    "\n",
    "### Applications of Linear Regression :\n",
    "<ul>\n",
    "<li> Evaluating trends and sales estimates .</li>\n",
    "<li> Analysing the Impact of Price Changes .</li>\n",
    "<li> Assessing the Risk in organization .</li>\n",
    "<p> Consider the data of repaying the loan , its noted that people who are young , having job has higher probability of repaying the loan when compared to jobless , old people .</p>\n",
    " </ul>\n",
    " \n",
    "\n",
    "<img src=\"images/ml/linear_regression_sample.png\" alt=\"Linear Regression\" width=75% height=75%>\n",
    "     \n",
    "     \n",
    "\n",
    "In the above image , blue dots are the data and the red line is the **best fit line** .\n",
    "Also the good algorithm has lower error , so now we have to calculate the error . \n",
    "\n",
    "**Error is the difference between the predicted value and the actual value ** \n",
    "\n",
    "<img src=\"images/ml/linear_regression_error.png\" alt=\"Linear Regression\" width=75% height=75%>\n",
    "\n",
    "Here the **orange colored dots are the difference between the actual point and the original point  .** \n",
    "\n",
    "For better understanding lets have some small data and play with it . \n",
    "\n",
    "<table>\n",
    "<tr> <th>X</th><td>0</td>  \n",
    "<td>1</td>  <td>2</td>  \n",
    "<td>3</td>  <td>4</td>  \n",
    "<td>5</td>  <td>6</td>  \n",
    "<td>7</td>  <td>8</td>  \n",
    "<td>9</td></tr>\n",
    "<tr>\n",
    "<th>Y</th> <td>1</td>\n",
    "<td>3</td><td>2</td>\n",
    "<td>5</td><td>7</td>\n",
    "<td>8</td><td>8</td>\n",
    "<td>9</td><td>10</td>\n",
    "<td>12</td></tr>\n",
    "</table>\n",
    "\n",
    "\n",
    "\n",
    "\n",
    "\n"
   ]
  },
  {
   "cell_type": "code",
   "execution_count": 9,
   "metadata": {},
   "outputs": [
    {
     "data": {
      "image/png": "[encoded data removed]",
      "text/plain": [
       "<Figure size 432x288 with 1 Axes>"
      ]
     },
     "metadata": {
      "needs_background": "light"
     },
     "output_type": "display_data"
    }
   ],
   "source": [
    "# Lets Plot the Values\n",
    "x = [0,1,2,3,4,5,6,7,8,9]\n",
    "y = [1,3,2,5,7,8,8,9,10,12]\n",
    "import matplotlib.pyplot as plt\n",
    "plt.plot(x, y, 'ro')\n",
    "plt.axis([0, 10, 0, 15])\n",
    "plt.xlabel('X')\n",
    "plt.ylabel('Y')\n",
    "plt.show()"
   ]
  },
  {
   "cell_type": "markdown",
   "metadata": {},
   "source": [
    "Now we have to calculate the mean values of x and y \n",
    "\n",
    "**mean of x** = ( 0+1+2+3+4+5+6+7+8+9 )/10\n",
    "\n",
    "\n",
    "**mean of y** = (1+3+2+5+7+8+8+9+10+12) /10\n"
   ]
  },
  {
   "cell_type": "code",
   "execution_count": 4,
   "metadata": {},
   "outputs": [
    {
     "name": "stdout",
     "output_type": "stream",
     "text": [
      "Mean X =  4.5 Mean Y =  6.5\n"
     ]
    }
   ],
   "source": [
    "mean_of_x = sum(x)/len(x)\n",
    "mean_of_y = sum(y)/len(y)\n",
    "print (\"Mean X = \",mean_of_x ,\"Mean Y = \", mean_of_y)"
   ]
  },
  {
   "cell_type": "markdown",
   "metadata": {},
   "source": [
    "Now we had calculated the mean values of x and y .\n",
    "\n",
    "    y = mx + c \n",
    "\n",
    "\\begin{align}\n",
    "m = \\sum (x-\\overline{x}) (y -\\overline{y}) /\\sum (x-\\overline{x})^{2}\n",
    "\\end{align}\n",
    "\n",
    "\n",
    "So far we have calculated \n",
    "\\begin{align}\n",
    "\\overline{x} = 4.5  \\overline{y} = 6.5\n",
    "\\end{align}\n",
    "\n",
    "Inorder to calculate value of m \n",
    "\n",
    "\n",
    "| x | y  | \\begin{align}x- \\overline{x}\\end{align} | \\begin{align}y- \\overline{y}\\end{align}  |  (\\begin{align}x- \\overline{x})^{2}\\end{align} | \\begin{align}x- \\overline{x}\\end{align} *\\begin{align}y- \\overline{y}\\end{align} |\n",
    "|---|----|-------|------|------------|------------|\n",
    "| 0 | 1  | -4.5  | -5.5 | 20.25      | 24.75      |\n",
    "| 1 | 3  | -3.5  | -3.5 | 12.25      | 12.25      |\n",
    "| 2 | 2  | -2.5  | -4.5 | 6.25       | 11.25      |\n",
    "| 3 | 5  | -1.5  | -1.5 | 2.25       | 2.25       |\n",
    "| 4 | 7  | -0.5  | 0.5  | 0.25       | -0.25      |\n",
    "| 5 | 8  | 1.5   | 1.5  | 0.25       | 0.75       |\n",
    "| 6 | 8  | 1.5   | 1.5  | 2.25       | 2.25       |\n",
    "| 7 | 9  | 2.5   | 2.5  | 6.25       | 6.25       |\n",
    "| 8 | 10 | 3.5   | 3.5  | 12.25      | 12.25      |\n",
    "| 9 | 12 | 4.5   | 5.5  | 20.25      | 24.75      |\n",
    "\n",
    "\n",
    "\n",
    "m = (96.5)/(82.5)\n",
    "m  = 1.1696 \n",
    "\n",
    "To calculate value of c , \n",
    "\n",
    "y = mx + c \n",
    "\n",
    "c = y - mx \n",
    "\n",
    "c = (6.5) - (1.1696)(4.5)\n",
    "\n",
    "c = 1.2368 \n",
    "\n",
    "\n"
   ]
  },
  {
   "cell_type": "code",
   "execution_count": 13,
   "metadata": {},
   "outputs": [
    {
     "name": "stdout",
     "output_type": "stream",
     "text": [
      "X  [0, 1, 2, 3, 4, 5, 6, 7, 8, 9]\n",
      "Y Pred  [1.2368, 2.4063999999999997, 3.5759999999999996, 4.7456, 5.9152, 7.0847999999999995, 8.2544, 9.424000000000001, 10.5936, 11.7632]\n"
     ]
    }
   ],
   "source": [
    "x = [0,1,2,3,4,5,6,7,8,9]\n",
    "y_pred = []\n",
    "m = 1.1696 # slope \n",
    "c = 1.2368 # intercept\n",
    "for val in x:\n",
    "    y_pred.append((m*val) + c )\n",
    "\n",
    "print (\"X \", x)\n",
    "print (\"Y Pred \", y_pred)\n",
    "\n"
   ]
  },
  {
   "cell_type": "code",
   "execution_count": 16,
   "metadata": {},
   "outputs": [
    {
     "data": {
      "image/png": "[encoded data removed]",
      "text/plain": [
       "<Figure size 432x288 with 1 Axes>"
      ]
     },
     "metadata": {
      "needs_background": "light"
     },
     "output_type": "display_data"
    }
   ],
   "source": [
    "# Now we can plot the new graph with predicted value\n",
    "plt.plot(x, y_pred , color=\"b\")\n",
    "plt.plot(x, y, 'ro')\n",
    "\n",
    "plt.axis([0, 10, 0, 15])\n",
    "plt.xlabel('X')\n",
    "plt.ylabel('Y Pred')\n",
    "plt.show()\n"
   ]
  },
  {
   "cell_type": "markdown",
   "metadata": {},
   "source": [
    "In the above graph blue line is the newly predicted value of y and the red dots are the actual value .  From this graph we are about to know that there are minimum outliers .\n",
    "\n",
    "Linear regression calculates an equation that minimizes the distance between the fitted line and all of the data points. Technically, ordinary least squares (OLS) regression minimizes the sum of the squared residuals.\n",
    "\n",
    "In general, a model fits the data well if the differences between the observed values and the model's predicted values are small and unbiased.\n",
    "\n",
    "To find the goodness fit of the line We can use some of the accuracy methods . \n",
    "1. R squared \n",
    "2. RMSE (Mean Square Error)\n",
    "\n",
    "1. R squared :\n",
    "\n",
    "R-squared is a statistical measure of how close the data are to the fitted regression line. It is also known as the coefficient of determination, or the coefficient of multiple determination for multiple regression.\n",
    "\n",
    "The definition of R-squared is fairly straight-forward; it is the percentage of the response variable variation that is explained by a linear model. Or:\n",
    "\n",
    "R-squared = Explained variation / Total variation \n",
    "\n",
    "R-squared is always between 0 and 100%:\n",
    "\n",
    "    0% indicates that the model explains none of the variability of the response data around its mean.\n",
    "    100% indicates that the model explains all the variability of the response data around its mean.\n",
    "\n",
    "\\begin{align}\n",
    "R^{2} = \\sum (y_{p} -  \\overline{y})^{2} / \\sum (y - \\overline{y})^{2}\n",
    "\\end{align}\n",
    "\n",
    "| x | \\begin{align} y_{p} \\end{align} |\n",
    "|---|---------------------------------|\n",
    "| 0 | 1.2368 |\n",
    "| 0 | 2.4063 |\n",
    "| 0 | 3.5759 |\n",
    "| 0 | 4.7456 |\n",
    "| 0 | 5.9152 |\n",
    "| 0 | 7.0847 |\n",
    "| 0 | 8.2544 |\n",
    "| 0 | 9.4240 |\n",
    "| 0 | 10.5936 |\n",
    "| 0 | 11.7632 |\n",
    "\n",
    "(i.e) Distance of actual mean vs Distance of Predicted mean \n",
    "\n",
    "\n",
    "\n"
   ]
  },
  {
   "cell_type": "code",
   "execution_count": 47,
   "metadata": {},
   "outputs": [
    {
     "name": "stdout",
     "output_type": "stream",
     "text": [
      "Numerator :  112.8757575757576\n",
      "Denominator :  118.5\n",
      "0.9525380386139882\n"
     ]
    }
   ],
   "source": [
    "numerator = 0\n",
    "denominator = 0\n",
    "\n",
    "for i in range(len(x)):\n",
    "    numerator += ((y_pred[i] - mean_of_y)**2)\n",
    "    denominator += ((y[i] - mean_of_y)**2 )\n",
    "print (\"Numerator : \", numerator)\n",
    "print (\"Denominator : \", denominator )\n",
    "\n",
    "r_squared =  (numerator/denominator)\n",
    "print (r_squared)"
   ]
  },
  {
   "cell_type": "code",
   "execution_count": 56,
   "metadata": {},
   "outputs": [
    {
     "name": "stdout",
     "output_type": "stream",
     "text": [
      "(237, 4)\n",
      "   Gender  Age Range  Head Size(cm^3)  Brain Weight(grams)\n",
      "0       1          1             4512                 1530\n",
      "1       1          1             3738                 1297\n",
      "2       1          1             4261                 1335\n",
      "3       1          1             3777                 1282\n",
      "4       1          1             4177                 1590\n"
     ]
    }
   ],
   "source": [
    "%matplotlib inline \n",
    "import numpy as np \n",
    "import pandas as pd\n",
    "import matplotlib.pyplot as plt\n",
    "\n",
    "#loading data \n",
    "data = pd.read_csv(\"headbrain.csv\")\n",
    "print(data.shape)\n",
    "print (data.head())"
   ]
  },
  {
   "cell_type": "code",
   "execution_count": 59,
   "metadata": {},
   "outputs": [
    {
     "name": "stdout",
     "output_type": "stream",
     "text": [
      "Slope :  0.26342933948939945 Intercept :  325.57342104944223\n"
     ]
    }
   ],
   "source": [
    "x = data[\"Head Size(cm^3)\"].values\n",
    "y = data[\"Brain Weight(grams)\"].values\n",
    "\n",
    "#mean of x and y \n",
    "\n",
    "mean_x = np.mean(x)\n",
    "mean_y = np.mean(y)\n",
    "\n",
    "n = len(x) # Total Values \n",
    "\n",
    "#𝑚=∑(𝑥−𝑥⎯⎯⎯)(𝑦−𝑦⎯⎯⎯)/∑(𝑥−𝑥⎯⎯⎯)2\n",
    "\n",
    "numerator = 0 \n",
    "denominator = 0 \n",
    "\n",
    "for i in range(n):\n",
    "    numerator += (x[i] - mean_x) * (y[i] - mean_y)\n",
    "    denominator += (x[i] - mean_x) ** 2\n",
    "\n",
    "m = numerator / denominator\n",
    "\n",
    "c = mean_y - (m * mean_x)\n",
    "\n",
    "print (\"Slope : \", m ,\"Intercept : \", c )\n",
    "\n",
    "\n"
   ]
  },
  {
   "cell_type": "code",
   "execution_count": 70,
   "metadata": {},
   "outputs": [
    {
     "data": {
      "image/png": "[encoded data removed]",
      "text/plain": [
       "<Figure size 432x288 with 1 Axes>"
      ]
     },
     "metadata": {
      "needs_background": "light"
     },
     "output_type": "display_data"
    }
   ],
   "source": [
    "# Plotting the graph \n",
    "plt.plot(x, y, 'ro')\n",
    "plt.axis([2500, 5000, 900, 1700])\n",
    "\n",
    "line_x = x.copy()\n",
    "line_y = c + m * line_x\n",
    "\n",
    "plt.plot(line_x , line_y , color=\"b\")\n",
    "plt.xlabel('X')\n",
    "plt.ylabel('Y')\n",
    "plt.show()"
   ]
  },
  {
   "cell_type": "code",
   "execution_count": 71,
   "metadata": {},
   "outputs": [
    {
     "name": "stdout",
     "output_type": "stream",
     "text": [
      "0.6393117199570003\n"
     ]
    }
   ],
   "source": [
    "ss_t = 0 \n",
    "ss_r = 0 \n",
    "for i in range(n):\n",
    "    y_pred = c + (m * x[i])\n",
    "    ss_t += (y[i] - mean_y) ** 2\n",
    "    ss_r += (y[i] - y_pred) ** 2\n",
    "r2 = 1 - (ss_r / ss_t)\n",
    "print (r2)"
   ]
  },
  {
   "cell_type": "code",
   "execution_count": 72,
   "metadata": {},
   "outputs": [
    {
     "name": "stdout",
     "output_type": "stream",
     "text": [
      "0.639311719957\n"
     ]
    }
   ],
   "source": [
    "from sklearn.linear_model import LinearRegression\n",
    "from sklearn.metrics import mean_squared_error\n",
    "\n",
    "X = x.reshape((n , 1))\n",
    "reg = LinearRegression()\n",
    "reg = reg.fit(X , y)\n",
    "y_pred = reg.predict(X)\n",
    "r2_score = reg.score(X , y)\n",
    "print (r2_score)"
   ]
  },
  {
   "cell_type": "code",
   "execution_count": null,
   "metadata": {},
   "outputs": [],
   "source": []
  }
 ],
 "metadata": {
  "kernelspec": {
   "display_name": "Python 3",
   "language": "python",
   "name": "python3"
  },
  "language_info": {
   "codemirror_mode": {
    "name": "ipython",
    "version": 3
   },
   "file_extension": ".py",
   "mimetype": "text/x-python",
   "name": "python",
   "nbconvert_exporter": "python",
   "pygments_lexer": "ipython3",
   "version": "3.6.6"
  }
 },
 "nbformat": 4,
 "nbformat_minor": 2
}
